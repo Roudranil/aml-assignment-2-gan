{
  "cells": [
    {
      "cell_type": "markdown",
      "source": [
        "# Setup"
      ],
      "metadata": {
        "id": "VaIndxUXGE3_"
      }
    },
    {
      "cell_type": "code",
      "source": [
        "from google.colab import drive\n",
        "drive.mount(\"/content/drive\", force_remount=True)\n",
        "! ln -s /content/drive/MyDrive/aml-assignments/assignment-2/ assignment-2"
      ],
      "metadata": {
        "colab": {
          "base_uri": "https://localhost:8080/"
        },
        "id": "EqReAALdGGv_",
        "outputId": "4f776433-39c6-4eb7-d43f-23896d454912"
      },
      "execution_count": 10,
      "outputs": [
        {
          "output_type": "stream",
          "name": "stdout",
          "text": [
            "Mounted at /content/drive\n"
          ]
        }
      ]
    },
    {
      "cell_type": "markdown",
      "metadata": {
        "id": "wdfSkQ8wFy_o"
      },
      "source": [
        "# Imports\n"
      ]
    },
    {
      "cell_type": "code",
      "source": [
        "!pip install torchinfo"
      ],
      "metadata": {
        "colab": {
          "base_uri": "https://localhost:8080/"
        },
        "id": "1zp4FKcDF4bB",
        "outputId": "21907638-c433-4d3e-f76d-52fe1baf2d82"
      },
      "execution_count": 1,
      "outputs": [
        {
          "output_type": "stream",
          "name": "stdout",
          "text": [
            "Collecting torchinfo\n",
            "  Downloading torchinfo-1.8.0-py3-none-any.whl (23 kB)\n",
            "Installing collected packages: torchinfo\n",
            "Successfully installed torchinfo-1.8.0\n"
          ]
        }
      ]
    },
    {
      "cell_type": "code",
      "execution_count": 2,
      "metadata": {
        "id": "9fg-bsN0Fy_t"
      },
      "outputs": [],
      "source": [
        "# general imports\n",
        "import numpy as np\n",
        "import pandas as pd\n",
        "\n",
        "import matplotlib.pyplot as plt\n",
        "import seaborn as sns"
      ]
    },
    {
      "cell_type": "code",
      "execution_count": 3,
      "metadata": {
        "id": "dRN8NMzzFy_v"
      },
      "outputs": [],
      "source": [
        "# torch imports\n",
        "import torch\n",
        "import torch.nn as nn\n",
        "import torch.nn.functional as F\n",
        "import torch.optim as optim\n",
        "from torch.utils.data import Dataset, DataLoader\n",
        "import torchvision\n",
        "from torchinfo import summary"
      ]
    },
    {
      "cell_type": "code",
      "execution_count": 4,
      "metadata": {
        "id": "IeeXhe6BFy_w"
      },
      "outputs": [],
      "source": [
        "# utility imports\n",
        "import os\n",
        "from tqdm import tqdm\n",
        "import pickle"
      ]
    },
    {
      "cell_type": "code",
      "execution_count": 5,
      "metadata": {
        "id": "tBlf2YSRFy_w"
      },
      "outputs": [],
      "source": [
        "import warnings\n",
        "\n",
        "warnings.filterwarnings(\"ignore\")"
      ]
    },
    {
      "cell_type": "markdown",
      "metadata": {
        "id": "VU6x9xoWFy_w"
      },
      "source": [
        "# Configuration\n"
      ]
    },
    {
      "cell_type": "code",
      "execution_count": 6,
      "metadata": {
        "id": "_6pr7dKwFy_w"
      },
      "outputs": [],
      "source": [
        "DEVICE = torch.device(\"cuda:0\" if torch.cuda.is_available() else \"cpu\")\n",
        "\n",
        "BATCH_SIZE = 32\n",
        "SAMPLE_SIZE = 16\n",
        "NUM_FEATURES_GEN = 8\n",
        "NUM_FEATURES_DISC = 4\n",
        "NUM_CHANNELS = 1\n",
        "Z_DIM = 16\n",
        "\n",
        "EPOCHS = 10\n",
        "GRAD_NORM_CLIP = 1\n",
        "LEARNING_RATE = 2e-4\n",
        "BETA = (0.5, 0.999)"
      ]
    },
    {
      "cell_type": "code",
      "execution_count": 8,
      "metadata": {
        "id": "FzTYQ7ZOFy_x"
      },
      "outputs": [],
      "source": [
        "def modelsummary(model, input_size):\n",
        "    print(\n",
        "        summary(\n",
        "            model,\n",
        "            input_size=input_size,\n",
        "            col_names=[\"input_size\", \"output_size\", \"num_params\"],\n",
        "        )\n",
        "    )"
      ]
    },
    {
      "cell_type": "markdown",
      "metadata": {
        "id": "CZxN_i27Fy_x"
      },
      "source": [
        "# Dataset\n"
      ]
    },
    {
      "cell_type": "code",
      "execution_count": 9,
      "metadata": {
        "id": "NZ-REQdpFy_x"
      },
      "outputs": [],
      "source": [
        "class MnistDataset(Dataset):\n",
        "    def __init__(self, img_file: str, transform=None, device: str = DEVICE):\n",
        "        super().__init__()\n",
        "        self.images = pd.read_csv(img_file)\n",
        "        self.labels = self.images[\"label\"]\n",
        "        self.images.drop(columns=[\"label\"], inplace=True)\n",
        "        self.transform = transform\n",
        "        self.device = device\n",
        "\n",
        "    def __len__(self):\n",
        "        return len(self.labels)\n",
        "\n",
        "    def __getitem__(self, index):\n",
        "        img = torch.tensor(self.images.iloc[index, :]).view((1, 28, 28)).float() / 255\n",
        "        img = (img * 2) - 1\n",
        "        if self.transform:\n",
        "            img = self.transform(img)\n",
        "        img = img.to(self.device)\n",
        "        return img, self.labels[index]\n",
        "\n",
        "    def show(self, index):\n",
        "        img = torch.tensor(self.images.loc[index, :]).view((28, 28)).float()\n",
        "        label = self.labels[index]\n",
        "        plt.imshow(img, cmap=\"gray\")\n",
        "        plt.xticks([], [])\n",
        "        plt.yticks([], [])\n",
        "        plt.title(f\"Label: {label}\")\n",
        "        plt.tight_layout()\n",
        "        plt.show()"
      ]
    },
    {
      "cell_type": "code",
      "execution_count": 11,
      "metadata": {
        "id": "mFaKmqC-Fy_y"
      },
      "outputs": [],
      "source": [
        "data = MnistDataset(\"assignment-2/data/mnist/mnist_test.csv\")"
      ]
    },
    {
      "cell_type": "markdown",
      "metadata": {
        "id": "TXT-bhpaFy_y"
      },
      "source": [
        "# GAN\n"
      ]
    },
    {
      "cell_type": "markdown",
      "metadata": {
        "id": "4l8JEzJfFy_y"
      },
      "source": [
        "## Generator\n"
      ]
    },
    {
      "cell_type": "code",
      "execution_count": 12,
      "metadata": {
        "colab": {
          "base_uri": "https://localhost:8080/"
        },
        "id": "8tHzNKLtFy_y",
        "outputId": "7ea8286e-5e0f-4737-fdd0-4446bcda99a2"
      },
      "outputs": [
        {
          "output_type": "stream",
          "name": "stdout",
          "text": [
            "===================================================================================================================\n",
            "Layer (type:depth-idx)                   Input Shape               Output Shape              Param #\n",
            "===================================================================================================================\n",
            "Generator                                [32, 16]                  [32, 1, 28, 28]           --\n",
            "├─Linear: 1-1                            [32, 16]                  [32, 512]                 8,704\n",
            "├─Sequential: 1-2                        [32, 32, 4, 4]            [32, 16, 7, 7]            --\n",
            "│    └─ConvTranspose2d: 2-1              [32, 32, 4, 4]            [32, 16, 7, 7]            8,192\n",
            "│    └─BatchNorm2d: 2-2                  [32, 16, 7, 7]            [32, 16, 7, 7]            32\n",
            "│    └─ReLU: 2-3                         [32, 16, 7, 7]            [32, 16, 7, 7]            --\n",
            "│    └─Dropout: 2-4                      [32, 16, 7, 7]            [32, 16, 7, 7]            --\n",
            "├─Sequential: 1-3                        [32, 16, 7, 7]            [32, 8, 14, 14]           --\n",
            "│    └─ConvTranspose2d: 2-5              [32, 16, 7, 7]            [32, 8, 14, 14]           2,048\n",
            "│    └─BatchNorm2d: 2-6                  [32, 8, 14, 14]           [32, 8, 14, 14]           16\n",
            "│    └─ReLU: 2-7                         [32, 8, 14, 14]           [32, 8, 14, 14]           --\n",
            "│    └─Dropout: 2-8                      [32, 8, 14, 14]           [32, 8, 14, 14]           --\n",
            "├─Sequential: 1-4                        [32, 8, 14, 14]           [32, 1, 28, 28]           --\n",
            "│    └─ConvTranspose2d: 2-9              [32, 8, 14, 14]           [32, 1, 28, 28]           129\n",
            "│    └─ReLU: 2-10                        [32, 1, 28, 28]           [32, 1, 28, 28]           --\n",
            "│    └─Dropout: 2-11                     [32, 1, 28, 28]           [32, 1, 28, 28]           --\n",
            "├─Tanh: 1-5                              [32, 1, 28, 28]           [32, 1, 28, 28]           --\n",
            "===================================================================================================================\n",
            "Total params: 19,121\n",
            "Trainable params: 19,121\n",
            "Non-trainable params: 0\n",
            "Total mult-adds (M): 29.21\n",
            "===================================================================================================================\n",
            "Input size (MB): 0.00\n",
            "Forward/backward pass size (MB): 1.54\n",
            "Params size (MB): 0.08\n",
            "Estimated Total Size (MB): 1.61\n",
            "===================================================================================================================\n"
          ]
        }
      ],
      "source": [
        "class Generator(nn.Module):\n",
        "    def __init__(self, z_dim, num_channels, num_features_gen) -> None:\n",
        "        super().__init__()\n",
        "\n",
        "        # dimensions\n",
        "        self.latent_dim = z_dim\n",
        "        self.num_channels = num_channels\n",
        "        self.num_features_gen = num_features_gen\n",
        "\n",
        "        # layers\n",
        "        self.fc = nn.Linear(z_dim, num_features_gen * 64)\n",
        "        self.conv1 = self._deconv_block(\n",
        "            num_features_gen * 4, num_features_gen * 2, 4, 1, 0, use_batchnorm=True\n",
        "        )\n",
        "        self.conv2 = self._deconv_block(\n",
        "            num_features_gen * 2, num_features_gen, 4, 2, 1, use_batchnorm=True\n",
        "        )\n",
        "        self.conv3 = self._deconv_block(\n",
        "            num_features_gen, num_channels, 4, 2, 1, use_batchnorm=False\n",
        "        )\n",
        "        self.tanh = nn.Tanh()\n",
        "\n",
        "    def _deconv_block(\n",
        "        self,\n",
        "        in_channels: int,\n",
        "        out_channels: int,\n",
        "        kernel_size: int,\n",
        "        stride: int,\n",
        "        padding: int,\n",
        "        use_batchnorm: bool,\n",
        "    ) -> nn.Sequential:\n",
        "        modules = []\n",
        "        bias = True if not use_batchnorm else False\n",
        "        modules.append(\n",
        "            nn.ConvTranspose2d(\n",
        "                in_channels,\n",
        "                out_channels,\n",
        "                kernel_size=kernel_size,\n",
        "                stride=stride,\n",
        "                padding=padding,\n",
        "                bias=bias,\n",
        "            )\n",
        "        )\n",
        "        if use_batchnorm:\n",
        "            modules.append(nn.BatchNorm2d(out_channels))\n",
        "        modules.append(nn.ReLU())\n",
        "        modules.append(nn.Dropout(0.3))\n",
        "        return nn.Sequential(*modules)\n",
        "\n",
        "    def forward(self, x):\n",
        "        x = self.fc(x)\n",
        "        x = x.view(-1, self.num_features_gen * 4, 4, 4)\n",
        "        x = self.conv1(x)\n",
        "        x = self.conv2(x)\n",
        "        x = self.conv3(x)\n",
        "        x = self.tanh(x)  # images are normalised to have pixels within -1, 1\n",
        "        return x\n",
        "\n",
        "\n",
        "model = Generator(Z_DIM, NUM_CHANNELS, NUM_FEATURES_GEN)\n",
        "modelsummary(model, (BATCH_SIZE, Z_DIM))"
      ]
    },
    {
      "cell_type": "markdown",
      "metadata": {
        "id": "ojoFZpK2Fy_z"
      },
      "source": [
        "## Discriminator\n"
      ]
    },
    {
      "cell_type": "code",
      "execution_count": 13,
      "metadata": {
        "colab": {
          "base_uri": "https://localhost:8080/"
        },
        "id": "2VynxX48Fy_z",
        "outputId": "e041704c-80ae-4878-eecb-6404e293b88a"
      },
      "outputs": [
        {
          "output_type": "stream",
          "name": "stdout",
          "text": [
            "===================================================================================================================\n",
            "Layer (type:depth-idx)                   Input Shape               Output Shape              Param #\n",
            "===================================================================================================================\n",
            "Discriminator                            [32, 1, 28, 28]           [32, 1]                   --\n",
            "├─Sequential: 1-1                        [32, 1, 28, 28]           [32, 16, 14, 14]          --\n",
            "│    └─Conv2d: 2-1                       [32, 1, 28, 28]           [32, 16, 14, 14]          272\n",
            "│    └─LeakyReLU: 2-2                    [32, 16, 14, 14]          [32, 16, 14, 14]          --\n",
            "│    └─Dropout: 2-3                      [32, 16, 14, 14]          [32, 16, 14, 14]          --\n",
            "├─Sequential: 1-2                        [32, 16, 14, 14]          [32, 32, 7, 7]            --\n",
            "│    └─Conv2d: 2-4                       [32, 16, 14, 14]          [32, 32, 7, 7]            8,192\n",
            "│    └─BatchNorm2d: 2-5                  [32, 32, 7, 7]            [32, 32, 7, 7]            64\n",
            "│    └─LeakyReLU: 2-6                    [32, 32, 7, 7]            [32, 32, 7, 7]            --\n",
            "│    └─Dropout: 2-7                      [32, 32, 7, 7]            [32, 32, 7, 7]            --\n",
            "├─Sequential: 1-3                        [32, 32, 7, 7]            [32, 64, 3, 3]            --\n",
            "│    └─Conv2d: 2-8                       [32, 32, 7, 7]            [32, 64, 3, 3]            32,768\n",
            "│    └─BatchNorm2d: 2-9                  [32, 64, 3, 3]            [32, 64, 3, 3]            128\n",
            "│    └─LeakyReLU: 2-10                   [32, 64, 3, 3]            [32, 64, 3, 3]            --\n",
            "│    └─Dropout: 2-11                     [32, 64, 3, 3]            [32, 64, 3, 3]            --\n",
            "├─Flatten: 1-4                           [32, 64, 3, 3]            [32, 576]                 --\n",
            "├─Linear: 1-5                            [32, 576]                 [32, 1]                   577\n",
            "├─Sigmoid: 1-6                           [32, 1]                   [32, 1]                   --\n",
            "===================================================================================================================\n",
            "Total params: 42,001\n",
            "Trainable params: 42,001\n",
            "Non-trainable params: 0\n",
            "Total mult-adds (M): 24.01\n",
            "===================================================================================================================\n",
            "Input size (MB): 0.10\n",
            "Forward/backward pass size (MB): 1.90\n",
            "Params size (MB): 0.17\n",
            "Estimated Total Size (MB): 2.17\n",
            "===================================================================================================================\n"
          ]
        }
      ],
      "source": [
        "class Discriminator(nn.Module):\n",
        "    def __init__(self, num_channels, num_features_disc) -> None:\n",
        "        super().__init__()\n",
        "        self.conv1 = self._conv_block(\n",
        "            num_channels, num_features_disc * 4, 4, 2, 1, use_batchnorm=False\n",
        "        )\n",
        "        self.conv2 = self._conv_block(\n",
        "            num_features_disc * 4, num_features_disc * 8, 4, 2, 1, use_batchnorm=True\n",
        "        )\n",
        "        self.conv3 = self._conv_block(\n",
        "            num_features_disc * 8, num_features_disc * 16, 4, 2, 1, use_batchnorm=True\n",
        "        )\n",
        "        self.fc = nn.Linear(576, 1)\n",
        "        self.flatten = nn.Flatten()\n",
        "        self.sigmoid = nn.Sigmoid()\n",
        "\n",
        "    def _conv_block(\n",
        "        self,\n",
        "        in_channels: int,\n",
        "        out_channels: int,\n",
        "        kernel_size: int,\n",
        "        stride: int,\n",
        "        padding: int,\n",
        "        use_batchnorm: bool,\n",
        "    ) -> nn.Sequential:\n",
        "        modules = []\n",
        "        bias = True if not use_batchnorm else False\n",
        "        modules.append(\n",
        "            nn.Conv2d(\n",
        "                in_channels,\n",
        "                out_channels,\n",
        "                kernel_size=kernel_size,\n",
        "                stride=stride,\n",
        "                padding=padding,\n",
        "                bias=bias,\n",
        "            )\n",
        "        )\n",
        "        if use_batchnorm:\n",
        "            modules.append(nn.BatchNorm2d(out_channels))\n",
        "        modules.append(nn.LeakyReLU(0.2))\n",
        "        modules.append(nn.Dropout(0.3))\n",
        "        return nn.Sequential(*modules)\n",
        "\n",
        "    def forward(self, x: torch.Tensor) -> torch.Tensor:\n",
        "        x = self.conv1(x)\n",
        "        x = self.conv2(x)\n",
        "        x = self.conv3(x)\n",
        "        x = self.flatten(x)\n",
        "        x = self.fc(x)\n",
        "        probs = self.sigmoid(x)\n",
        "        return probs\n",
        "\n",
        "\n",
        "model = Discriminator(NUM_CHANNELS, NUM_FEATURES_DISC)\n",
        "modelsummary(model, (BATCH_SIZE, 1, 28, 28))"
      ]
    },
    {
      "cell_type": "markdown",
      "metadata": {
        "id": "3s2BqVXQFy_z"
      },
      "source": [
        "## Weights initialisation\n",
        "\n",
        "initialising the weights to $\\mathbb{N}(0, 0.02^2)$\n"
      ]
    },
    {
      "cell_type": "code",
      "execution_count": 14,
      "metadata": {
        "id": "kyRDTpo0Fy_z"
      },
      "outputs": [],
      "source": [
        "def weights_initialisation(model):\n",
        "    for m in model.modules():\n",
        "        classname = m.__class__.__name__\n",
        "        if (\n",
        "            classname.find(\"Conv\") != -1\n",
        "            or classname.find(\"Linear\") != -1\n",
        "            or classname.find(\"BatchNorm\") != -1\n",
        "        ):\n",
        "            nn.init.normal_(m.weight.data, 0.0, 0.2)\n",
        "\n",
        "        if hasattr(m, \"bias\") and m.bias is not None:\n",
        "            nn.init.constant_(m.bias.data, 0.0)"
      ]
    },
    {
      "cell_type": "markdown",
      "metadata": {
        "id": "UcJAVoXmFy_z"
      },
      "source": [
        "# Training\n"
      ]
    },
    {
      "cell_type": "code",
      "source": [
        "def visualise(samples_per_epoch):\n",
        "    samples = samples_per_epoch.cpu()\n",
        "    fig, axs = plt.subplots(2, 8)\n",
        "    rows = [samples[:8], samples[8:]]\n",
        "    for i, ax in enumerate(axs):\n",
        "        for j, a in enumerate(ax):\n",
        "            a.imshow(rows[i][j].view(28, 28).data)\n",
        "            a.set_xticks([], [])\n",
        "            a.set_yticks([], [])\n",
        "    plt.tight_layout()\n",
        "    plt.show()"
      ],
      "metadata": {
        "id": "V8VT-e2XII04"
      },
      "execution_count": 21,
      "outputs": []
    },
    {
      "cell_type": "code",
      "execution_count": 25,
      "metadata": {
        "id": "7rxyLc2eFy_0"
      },
      "outputs": [],
      "source": [
        "def train_one_epoch(\n",
        "    epoch, gen, disc, train_dataloader, optimiser_gen, optimiser_disc, loss_fn\n",
        "):\n",
        "    loop = tqdm(train_dataloader, unit=\" batch\")\n",
        "    losses = []\n",
        "    for i, (real, _) in enumerate(loop):\n",
        "        loop.set_description_str(f\"Epoch = {epoch}\")\n",
        "\n",
        "        # forward pass\n",
        "        real = real.to(DEVICE)\n",
        "        noise = (\n",
        "            torch.distributions.uniform.Uniform(-1, 1)\n",
        "            .sample([BATCH_SIZE, Z_DIM])\n",
        "            .to(DEVICE)\n",
        "        )\n",
        "        fake = gen(noise)\n",
        "\n",
        "        # train discriminator\n",
        "        disc_out_real = disc(real).reshape(-1)\n",
        "        loss_disc_real = loss_fn(disc_out_real, torch.ones_like(disc_out_real))\n",
        "\n",
        "        disc_out_fake = disc(fake).reshape(-1)\n",
        "        loss_disc_fake = loss_fn(disc_out_fake, torch.zeros_like(disc_out_fake))\n",
        "\n",
        "        loss_disc = (loss_disc_fake + loss_disc_real) / 2\n",
        "        disc.zero_grad(set_to_none=True)\n",
        "        loss_disc.backward(retain_graph=True)\n",
        "        optimiser_disc.step()\n",
        "\n",
        "        # train generator\n",
        "        out = disc(fake).reshape(-1)\n",
        "        loss_gen = loss_fn(out, torch.ones_like(out))\n",
        "        gen.zero_grad(set_to_none=True)\n",
        "        loss_gen.backward()\n",
        "        optimiser_gen.step()\n",
        "\n",
        "        losses.append([loss_disc.cpu().item(), loss_gen.cpu().item()])\n",
        "\n",
        "        if i % 10 == 0:\n",
        "            loop.set_postfix_str(\n",
        "                f\"Discriminator Loss = {loss_disc.item(): .3f} | Generator Loss = {loss_gen.item(): .3f}\"\n",
        "            )\n",
        "    return losses\n",
        "\n",
        "\n",
        "def train(\n",
        "    gen,\n",
        "    disc,\n",
        "    train_dataloader,\n",
        "    optimiser_gen,\n",
        "    optimiser_disc,\n",
        "    loss_fn,\n",
        "    fixed_z,\n",
        "):\n",
        "    samples = []\n",
        "    losses = []\n",
        "    for epoch in range(EPOCHS):\n",
        "        model.train()\n",
        "        losses_per_epoch = train_one_epoch(\n",
        "            epoch + 1,\n",
        "            gen,\n",
        "            disc,\n",
        "            train_dataloader,\n",
        "            optimiser_gen,\n",
        "            optimiser_disc,\n",
        "            loss_fn,\n",
        "        )\n",
        "\n",
        "        gen.eval()\n",
        "        samples_per_epoch = generate(gen, fixed_z)\n",
        "\n",
        "        visualise(samples_per_epoch)\n",
        "\n",
        "        samples.append(samples_per_epoch)\n",
        "        losses.extend(losses_per_epoch)\n",
        "\n",
        "    with open(\"assignment-2/saved-model/train_samples.pkl\", \"wb\") as f:\n",
        "        pickle.dump(samples, f)\n",
        "\n",
        "\n",
        "def generate(gen, fixed_z):\n",
        "    return gen(fixed_z)"
      ]
    },
    {
      "cell_type": "code",
      "execution_count": 23,
      "metadata": {
        "id": "40GIZlOFFy_0"
      },
      "outputs": [],
      "source": [
        "def save_model(model, name):\n",
        "    torch.save(model.state_dict(), f\"assignment-2/saved-model/gan-{name}.pth\")\n",
        "\n",
        "\n",
        "def load_model(model, name):\n",
        "    model.load_state_dict(torch.load(f\"assignment-2/saved-model/gan-{name}.pth\"))\n",
        "\n",
        "\n",
        "def train_network(\n",
        "    gen: nn.Module,\n",
        "    disc: nn.Module,\n",
        "    train_dataloader: DataLoader,\n",
        "    name: str,\n",
        "):\n",
        "    weights_initialisation(gen)\n",
        "    weights_initialisation(disc)\n",
        "    optimiser_gen = optim.Adam(gen.parameters(), lr=LEARNING_RATE, betas=BETA)\n",
        "    optimiser_disc = optim.Adam(disc.parameters(), lr=LEARNING_RATE, betas=BETA)\n",
        "    loss_fn = nn.BCELoss()\n",
        "    fixed_z = (\n",
        "        torch.distributions.uniform.Uniform(-1, 1)\n",
        "        .sample([SAMPLE_SIZE, Z_DIM])\n",
        "        .to(DEVICE)\n",
        "    )\n",
        "\n",
        "    losses = train(\n",
        "        gen,\n",
        "        disc,\n",
        "        train_dataloader,\n",
        "        optimiser_gen,\n",
        "        optimiser_disc,\n",
        "        loss_fn,\n",
        "        fixed_z,\n",
        "    )\n",
        "    save_model(model, name)\n",
        "    return losses"
      ]
    },
    {
      "cell_type": "code",
      "execution_count": 19,
      "metadata": {
        "id": "rJAo2vZ8Fy_0"
      },
      "outputs": [],
      "source": [
        "train_dataset = MnistDataset(\"assignment-2/data/mnist/mnist_train.csv\")\n",
        "\n",
        "train_dataloader = DataLoader(train_dataset, batch_size=BATCH_SIZE, shuffle=True)"
      ]
    },
    {
      "cell_type": "code",
      "execution_count": null,
      "metadata": {
        "colab": {
          "base_uri": "https://localhost:8080/",
          "height": 313
        },
        "id": "-0Kbn6h9Fy_0",
        "outputId": "3e19d73f-6c60-41b9-877c-6b72a683dddb"
      },
      "outputs": [
        {
          "output_type": "stream",
          "name": "stderr",
          "text": [
            "Epoch = 1: 100%|██████████| 1875/1875 [02:40<00:00, 11.68 batch/s, Discriminator Loss =  0.001 | Generator Loss =  7.596]\n"
          ]
        },
        {
          "output_type": "display_data",
          "data": {
            "text/plain": [
              "<Figure size 640x480 with 16 Axes>"
            ],
            "image/png": "[encoded data removed]"
          },
          "metadata": {}
        },
        {
          "output_type": "stream",
          "name": "stderr",
          "text": [
            "Epoch = 2:  96%|█████████▋| 1806/1875 [02:35<00:05, 13.16 batch/s, Discriminator Loss =  0.000 | Generator Loss =  9.053]"
          ]
        }
      ],
      "source": [
        "disc = Discriminator(NUM_CHANNELS, NUM_FEATURES_DISC).to(DEVICE)\n",
        "gen = Generator(Z_DIM, NUM_CHANNELS, NUM_FEATURES_GEN).to(DEVICE)\n",
        "train_network(gen, disc, train_dataloader, \"trial-1\")"
      ]
    },
    {
      "cell_type": "code",
      "execution_count": null,
      "metadata": {
        "id": "wUUeiSDhFy_0"
      },
      "outputs": [],
      "source": []
    }
  ],
  "metadata": {
    "kernelspec": {
      "display_name": "Python 3",
      "name": "python3"
    },
    "language_info": {
      "codemirror_mode": {
        "name": "ipython",
        "version": 3
      },
      "file_extension": ".py",
      "mimetype": "text/x-python",
      "name": "python",
      "nbconvert_exporter": "python",
      "pygments_lexer": "ipython3",
      "version": "3.11.5"
    },
    "colab": {
      "provenance": [],
      "gpuType": "T4"
    },
    "accelerator": "GPU"
  },
  "nbformat": 4,
  "nbformat_minor": 0
}